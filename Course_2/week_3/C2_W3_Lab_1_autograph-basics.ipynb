{
 "cells": [
  {
   "cell_type": "markdown",
   "metadata": {
    "colab_type": "text",
    "id": "hrXv0rU9sIma"
   },
   "source": [
    "# Autograph: Basic\n",
    "In this ungraded lab, you will go through  some of the basics of autograph so you can explore what the generated code looks like."
   ]
  },
  {
   "cell_type": "markdown",
   "metadata": {},
   "source": [
    "## Imports"
   ]
  },
  {
   "cell_type": "code",
   "execution_count": 1,
   "metadata": {
    "colab": {},
    "colab_type": "code",
    "id": "NiolgWMPgpwI"
   },
   "outputs": [],
   "source": [
    "import tensorflow as tf"
   ]
  },
  {
   "cell_type": "markdown",
   "metadata": {},
   "source": [
    "## Addition in autograph\n",
    "You can use the `@tf.function` decorator to automatically generate the graph-style code as shown below:"
   ]
  },
  {
   "cell_type": "code",
   "execution_count": 2,
   "metadata": {
    "tags": []
   },
   "outputs": [
    {
     "name": "stdout",
     "output_type": "stream",
     "text": [
      "tf.Tensor(\n",
      "[[5. 2.]\n",
      " [4. 9.]], shape=(2, 2), dtype=float32)\n",
      "def tf__add(a, b):\n",
      "    do_return = False\n",
      "    retval_ = ag__.UndefinedReturnValue()\n",
      "    with ag__.FunctionScope('add', 'fscope', ag__.ConversionOptions(recursive=True, user_requested=True, optional_features=(), internal_convert_user_code=True)) as fscope:\n",
      "        try:\n",
      "            do_return = True\n",
      "            retval_ = fscope.mark_return_value((a + b))\n",
      "        except:\n",
      "            do_return = False\n",
      "            raise\n",
      "    (do_return,)\n",
      "    return ag__.retval(retval_)\n",
      "\n"
     ]
    }
   ],
   "source": [
    "@tf.function\n",
    "def add(a, b):\n",
    "    return a + b\n",
    "\n",
    "\n",
    "a = tf.Variable([[1.,2.],[3.,4.]])\n",
    "b = tf.Variable([[4.,0.],[1.,5.]])\n",
    "print(tf.add(a, b))\n",
    "\n",
    "# See what the generated code looks like\n",
    "print(tf.autograph.to_code(add.python_function))"
   ]
  },
  {
   "cell_type": "markdown",
   "metadata": {},
   "source": [
    "## if-statements in autograph\n",
    "Control flow statements which are very intuitive to write in eager mode can look very complex in graph mode. You can see that in the next examples: first a simple function, then a more complicated one that involves lots of ops and conditionals (fizzbuzz)."
   ]
  },
  {
   "cell_type": "code",
   "execution_count": 3,
   "metadata": {
    "tags": []
   },
   "outputs": [
    {
     "name": "stdout",
     "output_type": "stream",
     "text": [
      "def tf__f(x):\n",
      "    do_return = False\n",
      "    retval_ = ag__.UndefinedReturnValue()\n",
      "    with ag__.FunctionScope('f', 'fscope', ag__.ConversionOptions(recursive=True, user_requested=True, optional_features=(), internal_convert_user_code=True)) as fscope:\n",
      "\n",
      "        def get_state():\n",
      "            return ()\n",
      "\n",
      "        def set_state(loop_vars):\n",
      "            pass\n",
      "\n",
      "        def if_true():\n",
      "            (x_1,) = (x,)\n",
      "            x_1 = (x_1 * x_1)\n",
      "            return x_1\n",
      "\n",
      "        def if_false():\n",
      "            return x\n",
      "        cond = (x > 0)\n",
      "        x = ag__.if_stmt(cond, if_true, if_false, get_state, set_state, ('x',), ())\n",
      "        try:\n",
      "            do_return = True\n",
      "            retval_ = fscope.mark_return_value(x)\n",
      "        except:\n",
      "            do_return = False\n",
      "            raise\n",
      "    (do_return,)\n",
      "    return ag__.retval(retval_)\n",
      "\n"
     ]
    }
   ],
   "source": [
    "# simple function that returns the square if the input is greater than zero\n",
    "@tf.function\n",
    "def f(x):\n",
    "    if x>0:\n",
    "        x = x * x\n",
    "    return x\n",
    "\n",
    "print(tf.autograph.to_code(f.python_function))"
   ]
  },
  {
   "cell_type": "markdown",
   "metadata": {},
   "source": [
    "## Fizzbuzz in autograph\n",
    "\n",
    "You may remember implementing [fizzbuzz](http://wiki.c2.com/?FizzBuzzTest) in preparation for a coding interview.  \n",
    "- Imagine how much fun it would be if you were asked to impement the graph mode version of that code!  \n",
    "\n",
    "Fortunately, you can just use `@tf.function` and then call `tf.autograph.to_code`!"
   ]
  },
  {
   "cell_type": "code",
   "execution_count": 4,
   "metadata": {
    "tags": []
   },
   "outputs": [
    {
     "name": "stdout",
     "output_type": "stream",
     "text": [
      "def tf__fizzbuzz(max_num):\n",
      "    do_return = False\n",
      "    retval_ = ag__.UndefinedReturnValue()\n",
      "    with ag__.FunctionScope('fizzbuzz', 'fscope', ag__.ConversionOptions(recursive=True, user_requested=True, optional_features=(), internal_convert_user_code=True)) as fscope:\n",
      "        counter = 0\n",
      "\n",
      "        def get_state_3():\n",
      "            return (counter,)\n",
      "\n",
      "        def set_state_3(loop_vars):\n",
      "            nonlocal counter\n",
      "            (counter,) = loop_vars\n",
      "\n",
      "        def loop_body(itr):\n",
      "            nonlocal counter\n",
      "            num = itr\n",
      "\n",
      "            def get_state_2():\n",
      "                return ()\n",
      "\n",
      "            def set_state_2(loop_vars):\n",
      "                pass\n",
      "\n",
      "            def if_true_2():\n",
      "                print('FizzBuzz')\n",
      "                return ag__.match_staging_level(1, cond_2)\n",
      "\n",
      "            def if_false_2():\n",
      "\n",
      "                def get_state_1():\n",
      "                    return ()\n",
      "\n",
      "                def set_state_1(loop_vars):\n",
      "                    pass\n",
      "\n",
      "                def if_true_1():\n",
      "                    print('Fizz')\n",
      "                    return ag__.match_staging_level(1, cond_1)\n",
      "\n",
      "                def if_false_1():\n",
      "\n",
      "                    def get_state():\n",
      "                        return ()\n",
      "\n",
      "                    def set_state(loop_vars):\n",
      "                        pass\n",
      "\n",
      "                    def if_true():\n",
      "                        print('Buzz')\n",
      "                        return ag__.match_staging_level(1, cond)\n",
      "\n",
      "                    def if_false():\n",
      "                        print(num)\n",
      "                        return ag__.match_staging_level(1, cond)\n",
      "                    cond = ((num % 5) == 0)\n",
      "                    ag__.if_stmt(cond, if_true, if_false, get_state, set_state, (), ())\n",
      "                    return ag__.match_staging_level(1, cond_1)\n",
      "                cond_1 = ((num % 3) == 0)\n",
      "                ag__.if_stmt(cond_1, if_true_1, if_false_1, get_state_1, set_state_1, (), ())\n",
      "                return ag__.match_staging_level(1, cond_2)\n",
      "            cond_2 = ag__.and_((lambda : ((num % 3) == 0)), (lambda : ((num % 5) == 0)))\n",
      "            ag__.if_stmt(cond_2, if_true_2, if_false_2, get_state_2, set_state_2, (), ())\n",
      "            counter += 1\n",
      "        ag__.for_stmt(ag__.converted_call(range, (max_num,), None, fscope), None, loop_body, get_state_3, set_state_3, ('counter',), {})\n",
      "        try:\n",
      "            do_return = True\n",
      "            retval_ = fscope.mark_return_value(counter)\n",
      "        except:\n",
      "            do_return = False\n",
      "            raise\n",
      "    (do_return,)\n",
      "    return ag__.retval(retval_)\n",
      "\n"
     ]
    }
   ],
   "source": [
    "@tf.function\n",
    "def fizzbuzz(max_num):\n",
    "    counter = 0\n",
    "    for num in range(max_num):\n",
    "        if num % 3 == 0 and num % 5 == 0:\n",
    "            print('FizzBuzz')\n",
    "        elif num % 3 == 0:\n",
    "            print('Fizz')\n",
    "        elif num % 5 == 0:\n",
    "            print('Buzz')\n",
    "        else:\n",
    "            print(num)\n",
    "        counter += 1\n",
    "    return counter\n",
    "\n",
    "print(tf.autograph.to_code(fizzbuzz.python_function))"
   ]
  },
  {
   "cell_type": "code",
   "execution_count": null,
   "metadata": {},
   "outputs": [],
   "source": []
  }
 ],
 "metadata": {
  "colab": {
   "collapsed_sections": [],
   "include_colab_link": true,
   "name": "Autograph Basics.ipynb",
   "private_outputs": true,
   "provenance": []
  },
  "kernelspec": {
   "display_name": "Python 3",
   "language": "python",
   "name": "python3"
  },
  "language_info": {
   "codemirror_mode": {
    "name": "ipython",
    "version": 3
   },
   "file_extension": ".py",
   "mimetype": "text/x-python",
   "name": "python",
   "nbconvert_exporter": "python",
   "pygments_lexer": "ipython3",
   "version": "3.6.7"
  },
  "toc": {
   "base_numbering": 1,
   "nav_menu": {},
   "number_sections": true,
   "sideBar": true,
   "skip_h1_title": false,
   "title_cell": "Table of Contents",
   "title_sidebar": "Contents",
   "toc_cell": false,
   "toc_position": {},
   "toc_section_display": true,
   "toc_window_display": false
  }
 },
 "nbformat": 4,
 "nbformat_minor": 4
}
