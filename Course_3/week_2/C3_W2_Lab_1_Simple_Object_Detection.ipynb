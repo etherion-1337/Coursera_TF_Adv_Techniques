{
 "cells": [
  {
   "cell_type": "markdown",
   "metadata": {
    "id": "mmANPR2jhCR6"
   },
   "source": [
    "# Simple Object Detection in Tensorflow\n",
    "\n",
    "This lab will walk you through how to use object detection models available in [Tensorflow Hub](https://www.tensorflow.org/hub). In the following sections, you will:\n",
    "\n",
    "* explore the Tensorflow Hub for object detection models\n",
    "* load the models in your workspace\n",
    "* preprocess an image for inference \n",
    "* run inference on the models and inspect the output\n",
    "\n",
    "Let's get started!"
   ]
  },
  {
   "cell_type": "markdown",
   "metadata": {
    "id": "8DkMLuGDhCR6"
   },
   "source": [
    "## Imports"
   ]
  },
  {
   "cell_type": "code",
   "execution_count": 1,
   "metadata": {
    "id": "OEoRKdmByrb0"
   },
   "outputs": [],
   "source": [
    "import tensorflow as tf\n",
    "import tensorflow_hub as hub\n",
    "from PIL import Image\n",
    "from PIL import ImageOps\n",
    "import tempfile\n",
    "from six.moves.urllib.request import urlopen\n",
    "from six import BytesIO"
   ]
  },
  {
   "cell_type": "markdown",
   "metadata": {
    "id": "nb8MBgTOhCR6"
   },
   "source": [
    "### Download the model from Tensorflow Hub\n",
    "\n",
    "Tensorflow Hub is a repository of trained machine learning models which you can reuse in your own projects. \n",
    "- You can see the domains covered [here](https://tfhub.dev/) and its subcategories. \n",
    "- For this lab, you will want to look at the [image object detection subcategory](https://tfhub.dev/s?module-type=image-object-detection). \n",
    "- You can select a model to see more information about it and copy the URL so you can download it to your workspace. \n",
    "- We selected a [inception resnet version 2](https://tfhub.dev/google/faster_rcnn/openimages_v4/inception_resnet_v2/1)\n",
    "- You can also modify this following cell to choose the other model that we selected, [ssd mobilenet version 2](https://tfhub.dev/tensorflow/ssd_mobilenet_v2/2)"
   ]
  },
  {
   "cell_type": "code",
   "execution_count": 2,
   "metadata": {
    "id": "C9pCzz4uy20U"
   },
   "outputs": [],
   "source": [
    "# you can switch the commented lines here to pick the other model\n",
    "\n",
    "# inception resnet version 2\n",
    "module_handle = \"https://tfhub.dev/google/faster_rcnn/openimages_v4/inception_resnet_v2/1\"\n",
    "\n",
    "# You can choose ssd mobilenet version 2 instead and compare the results\n",
    "#module_handle = \"https://tfhub.dev/google/openimages_v4/ssd/mobilenet_v2/1\""
   ]
  },
  {
   "cell_type": "markdown",
   "metadata": {
    "id": "W3trj5FbhCR6"
   },
   "source": [
    "#### Load the model\n",
    "\n",
    "Next, you'll load the model specified by the `module_handle`.\n",
    "- This will take a few minutes to load the model."
   ]
  },
  {
   "cell_type": "code",
   "execution_count": 3,
   "metadata": {
    "id": "0WHkGDHfhCR6"
   },
   "outputs": [
    {
     "name": "stdout",
     "output_type": "stream",
     "text": [
      "INFO:tensorflow:Saver not created because there are no variables in the graph to restore\n"
     ]
    },
    {
     "name": "stderr",
     "output_type": "stream",
     "text": [
      "INFO:tensorflow:Saver not created because there are no variables in the graph to restore\n"
     ]
    }
   ],
   "source": [
    "model = hub.load(module_handle)"
   ]
  },
  {
   "cell_type": "markdown",
   "metadata": {
    "id": "1Ey0FpHGhCR6"
   },
   "source": [
    "#### Choose the default signature\n",
    "\n",
    "Some models in the Tensorflow hub can be used for different tasks. So each model's documentation should show what *signature* to use when running the model. \n",
    "- If you want to see if a model has more than one signature then you can do something like `print(hub.load(module_handle).signatures.keys())`. In your case, the models you will be using only have the `default` signature so you don't have to worry about other types."
   ]
  },
  {
   "cell_type": "code",
   "execution_count": 4,
   "metadata": {
    "id": "X1BU7AGthCR6"
   },
   "outputs": [
    {
     "data": {
      "text/plain": [
       "KeysView(_SignatureMap({'default': <tensorflow.python.eager.wrap_function.WrappedFunction object at 0x7f96937b9f98>}))"
      ]
     },
     "execution_count": 4,
     "metadata": {},
     "output_type": "execute_result"
    }
   ],
   "source": [
    "# take a look at the available signatures for this particular model\n",
    "model.signatures.keys()"
   ]
  },
  {
   "cell_type": "markdown",
   "metadata": {
    "id": "nfc9ax9hhCR6"
   },
   "source": [
    "Please choose the 'default' signature for your object detector.\n",
    "- For object detection models, its 'default' signature will accept a batch of image tensors and output a dictionary describing the objects detected, which is what you'll want here."
   ]
  },
  {
   "cell_type": "code",
   "execution_count": 5,
   "metadata": {
    "id": "pzwR5zE_hCR7"
   },
   "outputs": [],
   "source": [
    "detector = model.signatures['default']"
   ]
  },
  {
   "cell_type": "markdown",
   "metadata": {
    "id": "Wvb-3r3thCR7"
   },
   "source": [
    "### download_and_resize_image\n",
    "\n",
    "This function downloads an image specified by a given \"url\", pre-processes it, and then saves it to disk."
   ]
  },
  {
   "cell_type": "code",
   "execution_count": 6,
   "metadata": {
    "id": "Ucsxak_qhCR7"
   },
   "outputs": [],
   "source": [
    "def download_and_resize_image(url, new_width=256, new_height=256):\n",
    "    '''\n",
    "    Fetches an image online, resizes it and saves it locally.\n",
    "    \n",
    "    Args:\n",
    "        url (string) -- link to the image\n",
    "        new_width (int) -- size in pixels used for resizing the width of the image\n",
    "        new_height (int) -- size in pixels used for resizing the length of the image\n",
    "        \n",
    "    Returns:\n",
    "        (string) -- path to the saved image\n",
    "    '''\n",
    "    \n",
    "    \n",
    "    # create a temporary file ending with \".jpg\"\n",
    "    _, filename = tempfile.mkstemp(suffix=\".jpg\")\n",
    "    \n",
    "    # opens the given URL\n",
    "    response = urlopen(url)\n",
    "    \n",
    "    # reads the image fetched from the URL\n",
    "    image_data = response.read()\n",
    "    \n",
    "    # puts the image data in memory buffer\n",
    "    image_data = BytesIO(image_data)\n",
    "    \n",
    "    # opens the image\n",
    "    pil_image = Image.open(image_data)\n",
    "    \n",
    "    # resizes the image. will crop if aspect ratio is different.\n",
    "    pil_image = ImageOps.fit(pil_image, (new_width, new_height), Image.ANTIALIAS)\n",
    "    \n",
    "    # converts to the RGB colorspace\n",
    "    pil_image_rgb = pil_image.convert(\"RGB\")\n",
    "    \n",
    "    # saves the image to the temporary file created earlier\n",
    "    pil_image_rgb.save(filename, format=\"JPEG\", quality=90)\n",
    "    \n",
    "    print(\"Image downloaded to %s.\" % filename)\n",
    "    \n",
    "    return filename"
   ]
  },
  {
   "cell_type": "markdown",
   "metadata": {
    "id": "r7qodEJHhCR7"
   },
   "source": [
    "### Download and preprocess an image\n",
    "\n",
    "Now, using `download_and_resize_image` you can get a sample image online and save it locally. \n",
    "- We've provided a URL for you, but feel free to choose another image to run through the object detector.\n",
    "- You can use the original width and height of the image but feel free to modify it and see what results you get."
   ]
  },
  {
   "cell_type": "code",
   "execution_count": 7,
   "metadata": {
    "id": "xHTDalVrhCR7"
   },
   "outputs": [
    {
     "name": "stdout",
     "output_type": "stream",
     "text": [
      "Image downloaded to /var/folders/mv/2vs0jdhx58xcn4ncgvnmwjbr0000gn/T/tmp45wepw89.jpg.\n"
     ]
    }
   ],
   "source": [
    "# You can choose a different URL that points to an image of your choice\n",
    "image_url = \"https://upload.wikimedia.org/wikipedia/commons/f/fb/20130807_dublin014.JPG\"\n",
    "\n",
    "# download the image and use the original height and width\n",
    "downloaded_image_path = download_and_resize_image(image_url, 3872, 2592)"
   ]
  },
  {
   "cell_type": "markdown",
   "metadata": {
    "id": "IVNXUKMIhCR7"
   },
   "source": [
    "### run_detector\n",
    "\n",
    "This function will take in the object detection model `detector` and the path to a sample image, then use this model to detect objects and display its predicted class categories and detection boxes.\n",
    "- run_detector uses `load_image` to convert the image into a tensor."
   ]
  },
  {
   "cell_type": "code",
   "execution_count": 8,
   "metadata": {
    "id": "wkkiQzKlhCR7"
   },
   "outputs": [],
   "source": [
    "def load_img(path):\n",
    "    '''\n",
    "    Loads a JPEG image and converts it to a tensor.\n",
    "    \n",
    "    Args:\n",
    "        path (string) -- path to a locally saved JPEG image\n",
    "    \n",
    "    Returns:\n",
    "        (tensor) -- an image tensor\n",
    "    '''\n",
    "    \n",
    "    # read the file\n",
    "    img = tf.io.read_file(path)\n",
    "    \n",
    "    # convert to a tensor\n",
    "    img = tf.image.decode_jpeg(img, channels=3)\n",
    "    \n",
    "    return img\n",
    "\n",
    "\n",
    "def run_detector(detector, path):\n",
    "    '''\n",
    "    Runs inference on a local file using an object detection model.\n",
    "    \n",
    "    Args:\n",
    "        detector (model) -- an object detection model loaded from TF Hub\n",
    "        path (string) -- path to an image saved locally\n",
    "    '''\n",
    "    \n",
    "    # load an image tensor from a local file path\n",
    "    img = load_img(path)\n",
    "\n",
    "    # add a batch dimension in front of the tensor\n",
    "    converted_img  = tf.image.convert_image_dtype(img, tf.float32)[tf.newaxis, ...]\n",
    "    \n",
    "    # run inference using the model\n",
    "    result = detector(converted_img)\n",
    "\n",
    "    # save the results in a dictionary\n",
    "    result = {key:value.numpy() for key,value in result.items()}\n",
    "\n",
    "    # print results\n",
    "    print(\"Found %d objects.\" % len(result[\"detection_scores\"]))\n",
    "\n",
    "    print(result[\"detection_scores\"])\n",
    "    print(result[\"detection_class_entities\"])\n",
    "    print(result[\"detection_boxes\"])\n"
   ]
  },
  {
   "cell_type": "markdown",
   "metadata": {
    "id": "DSEeJSkxhCR7"
   },
   "source": [
    "### Run inference on the image\n",
    "\n",
    "You can run your detector by calling the `run_detector` function. This will print the number of objects found followed by three lists: \n",
    "\n",
    "* The detection scores of each object found (i.e. how confident the model is), \n",
    "* The classes of each object found, \n",
    "* The bounding boxes of each object\n",
    "\n",
    "You will see how to overlay this information on the original image in the next sections and in this week's assignment!"
   ]
  },
  {
   "cell_type": "code",
   "execution_count": 9,
   "metadata": {
    "id": "csanHvDIz4_t"
   },
   "outputs": [
    {
     "name": "stdout",
     "output_type": "stream",
     "text": [
      "Found 100 objects.\n",
      "[0.6532178  0.61050445 0.6015258  0.5925566  0.5917772  0.5815493\n",
      " 0.55053204 0.49575648 0.47424877 0.4732219  0.44066545 0.4051142\n",
      " 0.39803794 0.39406568 0.37148538 0.36155936 0.3615073  0.34689194\n",
      " 0.33362275 0.3125285  0.2887797  0.25758287 0.2574888  0.25196078\n",
      " 0.24782126 0.2341239  0.2043202  0.20324677 0.1798828  0.17964813\n",
      " 0.17374559 0.16431487 0.16031127 0.15895225 0.15620403 0.15468827\n",
      " 0.1475448  0.13622664 0.1274009  0.12555617 0.12102695 0.11813041\n",
      " 0.11387334 0.11229141 0.11129148 0.09718721 0.09137265 0.08976046\n",
      " 0.08880266 0.0863359  0.0833748  0.08095188 0.07988779 0.07741436\n",
      " 0.07732149 0.07631022 0.07507848 0.07386077 0.07233337 0.07204106\n",
      " 0.0711019  0.06935615 0.06825593 0.06427865 0.06248554 0.06226399\n",
      " 0.06211123 0.05940053 0.05798783 0.05784462 0.05725635 0.05346688\n",
      " 0.05304345 0.0524287  0.04892608 0.04813045 0.04578421 0.04424165\n",
      " 0.04337564 0.04277814 0.04262634 0.04163576 0.04081765 0.03975999\n",
      " 0.03945966 0.03944281 0.03863979 0.03769061 0.03759605 0.03566744\n",
      " 0.03359374 0.03333249 0.03275879 0.03231561 0.03134315 0.0297872\n",
      " 0.02858378 0.02856152 0.02822334 0.02787881]\n",
      "[b'Person' b'Person' b'Person' b'Person' b'Footwear' b'Person' b'Building'\n",
      " b'Bicycle' b'Window' b'Building' b'Person' b'Wheel' b'Building'\n",
      " b'Building' b'Person' b'Wheel' b'Building' b'Window' b'Window'\n",
      " b'Building' b'Person' b'Van' b'Person' b'Bicycle wheel' b'Person'\n",
      " b'Window' b'Window' b'Bicycle' b'Building' b'Window' b'Window' b'Man'\n",
      " b'Person' b'Person' b'Woman' b'Clothing' b'Bicycle wheel' b'Window'\n",
      " b'Person' b'Window' b'Land vehicle' b'Land vehicle' b'Clothing'\n",
      " b'Bicycle' b'Window' b'House' b'Land vehicle' b'Land vehicle' b'House'\n",
      " b'Man' b'Window' b'Clothing' b'Footwear' b'Person' b'Window' b'Man'\n",
      " b'Man' b'House' b'Person' b'Building' b'Clothing' b'Window' b'Person'\n",
      " b'Jeans' b'Man' b'Furniture' b'Person' b'Person' b'Person'\n",
      " b'Land vehicle' b'Person' b'Window' b'House' b'Woman' b'Window' b'Man'\n",
      " b'Person' b'Man' b'Clothing' b'Bicycle' b'Man' b'Person' b'Window'\n",
      " b'Person' b'Car' b'Man' b'Car' b'Chair' b'House' b'Window' b'Clothing'\n",
      " b'Tire' b'Clothing' b'Window' b'Land vehicle' b'Window' b'Man' b'Window'\n",
      " b'Bus' b'Clothing']\n",
      "[[5.12787819e-01 5.29258847e-01 6.01622522e-01 5.52077651e-01]\n",
      " [5.19631147e-01 6.01512671e-01 6.46177173e-01 6.34626806e-01]\n",
      " [5.05507112e-01 5.00440896e-01 6.01288378e-01 5.23084342e-01]\n",
      " [4.86331582e-01 4.12729561e-01 6.78829789e-01 4.59919751e-01]\n",
      " [8.15191388e-01 9.56122220e-01 8.42702985e-01 9.87146080e-01]\n",
      " [4.95409876e-01 9.23548341e-01 8.35687876e-01 9.99051571e-01]\n",
      " [1.14791868e-02 1.22223413e-02 7.38669753e-01 4.24632907e-01]\n",
      " [5.77677429e-01 3.66453379e-01 7.12771714e-01 4.83375698e-01]\n",
      " [0.00000000e+00 1.19262360e-01 2.23896131e-01 1.83930472e-01]\n",
      " [7.74120837e-02 4.12998140e-01 5.79539895e-01 5.60446203e-01]\n",
      " [5.13818145e-01 7.48031378e-01 5.91993213e-01 7.66611159e-01]\n",
      " [6.32137895e-01 3.59925538e-01 7.03870296e-01 4.11826104e-01]\n",
      " [0.00000000e+00 7.97051966e-01 6.73368335e-01 1.00000000e+00]\n",
      " [1.60234068e-02 6.84869528e-01 5.58761537e-01 8.11167896e-01]\n",
      " [5.00276983e-01 3.76966298e-01 6.33272946e-01 4.14501339e-01]\n",
      " [6.40540302e-01 4.45089400e-01 7.02983618e-01 4.83437657e-01]\n",
      " [0.00000000e+00 2.19054237e-01 6.60400987e-01 4.33263451e-01]\n",
      " [1.93080271e-03 0.00000000e+00 1.39376864e-01 2.62956936e-02]\n",
      " [2.57198350e-03 9.66668665e-01 1.53728664e-01 1.00000000e+00]\n",
      " [5.57225547e-04 1.52057421e-03 7.65210569e-01 2.69977152e-01]\n",
      " [5.04524827e-01 3.61187786e-01 6.34731770e-01 3.85342181e-01]\n",
      " [4.83405828e-01 6.19650960e-01 5.62705755e-01 6.61556184e-01]\n",
      " [4.98067290e-01 3.64576221e-01 6.61239386e-01 4.04972374e-01]\n",
      " [6.31278813e-01 3.60364228e-01 7.04153776e-01 4.11501318e-01]\n",
      " [5.21813869e-01 5.77647567e-01 5.87599933e-01 6.00718856e-01]\n",
      " [2.19569609e-01 3.48744750e-01 3.38372618e-01 3.77075404e-01]\n",
      " [1.24863066e-01 2.50912964e-01 2.79940844e-01 2.81580806e-01]\n",
      " [5.77186048e-01 3.62296671e-01 7.07020819e-01 4.41811115e-01]\n",
      " [2.57474333e-01 5.67561567e-01 5.31102955e-01 6.87727273e-01]\n",
      " [4.20639627e-02 8.74773145e-01 2.52773464e-01 9.13028836e-01]\n",
      " [1.56351030e-01 4.43401158e-01 2.22213238e-01 4.75786090e-01]\n",
      " [5.01968026e-01 9.21486855e-01 8.36406708e-01 1.00000000e+00]\n",
      " [5.23622513e-01 5.70259511e-01 5.84519386e-01 5.91583431e-01]\n",
      " [5.13246357e-01 6.79276407e-01 5.50994575e-01 6.92579925e-01]\n",
      " [5.19120276e-01 5.99985480e-01 6.46378398e-01 6.34036541e-01]\n",
      " [5.24297833e-01 9.24962103e-01 8.10777068e-01 9.97999489e-01]\n",
      " [6.38187289e-01 4.42918181e-01 7.01653838e-01 4.84097719e-01]\n",
      " [3.42190489e-02 3.55574757e-01 1.62255093e-01 3.74921143e-01]\n",
      " [4.88476783e-01 4.53496963e-01 6.21795475e-01 4.79725718e-01]\n",
      " [9.28808877e-04 3.07699054e-01 1.06533393e-01 3.32059622e-01]\n",
      " [4.83008981e-01 6.19908333e-01 5.64775169e-01 6.60696983e-01]\n",
      " [5.82192898e-01 3.64929795e-01 7.13880718e-01 4.84707832e-01]\n",
      " [5.23547709e-01 7.49199331e-01 5.85378170e-01 7.65317559e-01]\n",
      " [6.09156787e-01 4.26705897e-01 7.05165207e-01 4.87089008e-01]\n",
      " [3.51368576e-01 9.74856138e-01 5.53130686e-01 9.98878777e-01]\n",
      " [0.00000000e+00 8.11223269e-01 6.86410964e-01 9.97151375e-01]\n",
      " [5.76297641e-01 3.57461780e-01 7.04812348e-01 4.40279871e-01]\n",
      " [5.64892411e-01 3.63023102e-01 7.08650172e-01 4.16036338e-01]\n",
      " [1.09374998e-02 2.33155508e-02 7.26522923e-01 4.21747774e-01]\n",
      " [4.84686643e-01 4.10685986e-01 6.94686532e-01 4.63092804e-01]\n",
      " [8.09777379e-02 3.84715289e-01 2.07808718e-01 4.11746383e-01]\n",
      " [5.38284481e-01 6.03573740e-01 6.34776175e-01 6.34408653e-01]\n",
      " [6.29844606e-01 6.14971519e-01 6.44933462e-01 6.25384450e-01]\n",
      " [5.02758026e-01 3.82395953e-01 5.96146226e-01 4.12722319e-01]\n",
      " [0.00000000e+00 1.24522904e-02 1.40193507e-01 2.47382093e-02]\n",
      " [5.14441311e-01 7.47791588e-01 5.91985822e-01 7.66827345e-01]\n",
      " [5.06182134e-01 5.00406921e-01 6.00681365e-01 5.23312032e-01]\n",
      " [0.00000000e+00 2.11283594e-01 6.50794208e-01 4.34300750e-01]\n",
      " [4.89451557e-01 4.54391301e-01 5.72340131e-01 4.76470768e-01]\n",
      " [0.00000000e+00 7.06215680e-01 6.16998434e-01 8.66189241e-01]\n",
      " [5.09172916e-01 4.16281253e-01 6.69304490e-01 4.59598780e-01]\n",
      " [4.65171179e-03 8.03094208e-01 1.59853593e-01 8.40397060e-01]\n",
      " [5.26151001e-01 5.68352938e-01 5.79440355e-01 5.82810223e-01]\n",
      " [6.71924829e-01 9.40277696e-01 8.21276009e-01 9.89250779e-01]\n",
      " [5.02770185e-01 3.73883098e-01 6.46991491e-01 4.12972301e-01]\n",
      " [5.74243903e-01 2.67400920e-01 6.57769084e-01 3.20318580e-01]\n",
      " [4.86056745e-01 4.44508821e-01 6.24788821e-01 4.73503381e-01]\n",
      " [5.17248929e-01 7.56969154e-01 5.88517249e-01 7.71465540e-01]\n",
      " [5.23374975e-01 5.57850122e-01 5.79139531e-01 5.73541582e-01]\n",
      " [6.12461030e-01 4.27332461e-01 7.06080198e-01 4.88251865e-01]\n",
      " [5.24124146e-01 5.61553180e-01 5.78385353e-01 5.80475152e-01]\n",
      " [0.00000000e+00 2.44231746e-01 6.07754774e-02 2.93613434e-01]\n",
      " [1.48920957e-02 2.14740215e-03 7.45441914e-01 2.59790719e-01]\n",
      " [4.93236095e-01 9.23950255e-01 8.37110817e-01 9.97754931e-01]\n",
      " [8.37683864e-03 2.42165715e-01 4.97285277e-02 2.83162564e-01]\n",
      " [5.05334914e-01 3.60175282e-01 6.43561006e-01 3.91461790e-01]\n",
      " [5.13099074e-01 5.23794115e-01 6.00504339e-01 5.42967975e-01]\n",
      " [5.20421326e-01 6.00978673e-01 6.46124125e-01 6.34366393e-01]\n",
      " [5.18224835e-01 5.03395557e-01 5.97548664e-01 5.22683859e-01]\n",
      " [5.94199121e-01 3.61327976e-01 7.05465913e-01 4.15853351e-01]\n",
      " [5.13256371e-01 6.79316878e-01 5.50534010e-01 6.92482233e-01]\n",
      " [5.22302687e-01 5.36195457e-01 5.97564995e-01 5.53163290e-01]\n",
      " [4.29876357e-01 8.28702271e-01 5.89928269e-01 8.64323139e-01]\n",
      " [5.04884601e-01 3.89427006e-01 6.15080714e-01 4.19936121e-01]\n",
      " [5.26588559e-01 6.27176881e-01 5.63299775e-01 6.53728902e-01]\n",
      " [5.01304924e-01 3.64189029e-01 6.59964740e-01 4.03793275e-01]\n",
      " [5.15171111e-01 6.24104798e-01 5.63795388e-01 6.58002079e-01]\n",
      " [5.73137939e-01 2.66902655e-01 6.66162014e-01 3.18640232e-01]\n",
      " [8.34235400e-02 4.07414347e-01 5.84092438e-01 5.58522880e-01]\n",
      " [2.88196921e-01 4.77986701e-04 4.14364636e-01 3.65995876e-02]\n",
      " [4.97272849e-01 4.55296665e-01 5.83817124e-01 4.77936029e-01]\n",
      " [6.27167940e-01 3.61024022e-01 7.05996752e-01 4.09780145e-01]\n",
      " [5.15861034e-01 3.80057007e-01 5.96893728e-01 4.11758304e-01]\n",
      " [1.18098035e-02 3.08121800e-01 9.72859561e-02 3.25038970e-01]\n",
      " [5.12501717e-01 6.23653293e-01 5.62422156e-01 6.57641828e-01]\n",
      " [4.01003122e-01 8.85088921e-01 5.81281662e-01 9.39214408e-01]\n",
      " [5.13853133e-01 5.29484630e-01 6.02009714e-01 5.52362800e-01]\n",
      " [0.00000000e+00 1.00605991e-02 1.36156827e-01 3.16007212e-02]\n",
      " [4.80426282e-01 6.20422840e-01 5.65284610e-01 6.60150349e-01]\n",
      " [5.19355476e-01 3.61840427e-01 6.24995410e-01 3.84919703e-01]]\n"
     ]
    }
   ],
   "source": [
    "# runs the object detection model and prints information about the objects found\n",
    "run_detector(detector, downloaded_image_path)"
   ]
  },
  {
   "cell_type": "code",
   "execution_count": null,
   "metadata": {},
   "outputs": [],
   "source": []
  }
 ],
 "metadata": {
  "accelerator": "GPU",
  "colab": {
   "collapsed_sections": [],
   "name": "C3_W2_Lab_1_Simple_Object_Detection.ipynb",
   "private_outputs": true,
   "provenance": []
  },
  "kernelspec": {
   "display_name": "Python 3",
   "language": "python",
   "name": "python3"
  },
  "language_info": {
   "codemirror_mode": {
    "name": "ipython",
    "version": 3
   },
   "file_extension": ".py",
   "mimetype": "text/x-python",
   "name": "python",
   "nbconvert_exporter": "python",
   "pygments_lexer": "ipython3",
   "version": "3.6.7"
  },
  "toc": {
   "base_numbering": 1,
   "nav_menu": {},
   "number_sections": true,
   "sideBar": true,
   "skip_h1_title": false,
   "title_cell": "Table of Contents",
   "title_sidebar": "Contents",
   "toc_cell": false,
   "toc_position": {},
   "toc_section_display": true,
   "toc_window_display": false
  }
 },
 "nbformat": 4,
 "nbformat_minor": 1
}
